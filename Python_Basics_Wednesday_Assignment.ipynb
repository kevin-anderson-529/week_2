{
 "cells": [
  {
   "attachments": {},
   "cell_type": "markdown",
   "metadata": {},
   "source": [
    "# Coding Temple's Data Analytics Program\n",
    "---\n",
    "## Python Basics Assignment 3\n",
    "---"
   ]
  },
  {
   "attachments": {},
   "cell_type": "markdown",
   "metadata": {},
   "source": [
    "### **Task 1: Build a Shopping Cart**\n",
    "**You can use either lists or dictionaries. The program should have the following capabilites:**\n",
    "* Takes a string as an input\n",
    "* Stores user input in a dictionary or list\n",
    "* Users should be able to:\n",
    "    * Add Items\n",
    "    * Delete Items\n",
    "    * See current shopping cart\n",
    "* The program should loop until user 'quits'\n",
    "* Upon quitting the program, print out all items in the user's list"
   ]
  },
  {
   "cell_type": "code",
   "execution_count": 1,
   "metadata": {},
   "outputs": [
    {
     "name": "stdout",
     "output_type": "stream",
     "text": [
      "['apples', 'oranges', 'eggs']\n"
     ]
    }
   ],
   "source": [
    "from IPython.display import clear_output\n",
    "\n",
    "# Ask the user 5 bits of input: Do you want to : Show/Add/Delete/clear or Quit?\n",
    "# YOUR CODE HERE\n",
    "# Define a function to display cart contents\n",
    "\n",
    "\n",
    "def shopping_list():\n",
    "    cart = []\n",
    "    while True:\n",
    "        actions=input(\"What do you want to do: Show, Add, Delete, or Quit?\")\n",
    "        if actions.lower() == (\"show\"):\n",
    "            print(cart)\n",
    "        elif actions.lower() == (\"add\"):\n",
    "            actions=input(\"What would you like to add?\")\n",
    "            cart.append(actions)\n",
    "        elif actions.lower() == (\"delete\"):\n",
    "            actions=input(\"Which item should be deleted?\")\n",
    "            if actions in cart:\n",
    "                cart.remove(actions)\n",
    "        elif actions.lower() == (\"quit\"):\n",
    "            print(\"Here is your cart:\", cart)\n",
    "            break\n",
    "\n",
    "shopping_list()\n",
    "\n",
    "\n",
    "\n",
    "\n",
    "\n",
    "\n",
    "\n",
    "\n",
    "\n",
    "\n"
   ]
  },
  {
   "attachments": {},
   "cell_type": "markdown",
   "metadata": {},
   "source": [
    "### **Task 2: Create a Module and Import it**\n",
    "Create a Module in VS Code and import it into a Jupyter Notebook. \n",
    "\n",
    "**Your module should have the following capabilities:**\n",
    "* Has a function to calculate the square footage of a house\n",
    "* Has a function to calculate the circumference of a circle\n",
    "* Has a function to change feet to inches\n",
    "\n",
    "The program in Jupyter Notebook should take in user input and use the imported functions for their calculations!"
   ]
  },
  {
   "cell_type": "code",
   "execution_count": 9,
   "metadata": {},
   "outputs": [],
   "source": [
    "import module\n",
    "calc_square_footage: 6\n",
    "\n",
    "calc_circumference: 9\n",
    "\n",
    "feet_to_inches: 5"
   ]
  },
  {
   "attachments": {},
   "cell_type": "markdown",
   "metadata": {},
   "source": [
    "### **Task 3.1: Lists**\n",
    "Create 4 lists. Two of these lists should be keys, two of these lists should be values"
   ]
  },
  {
   "cell_type": "code",
   "execution_count": 5,
   "metadata": {},
   "outputs": [],
   "source": [
    "# artists\n",
    "keys_1 = ['Ed Sheeran', 'Macklemore', 'Lady Gaga', 'The Weeknd']\n",
    "# car makes\n",
    "keys_2 = ['Nissan', 'Mazda', 'Chevy', 'Ford']\n",
    "# lastest albums\n",
    "values_1 = ['Equals', 'Ben', 'Chromatica', 'Dawn FM']\n",
    "# car models\n",
    "values_2 = ['Rogue', 'CX5', 'Camaro', 'Mustang']\n"
   ]
  },
  {
   "attachments": {},
   "cell_type": "markdown",
   "metadata": {},
   "source": [
    "### **Task 3.2: Create a function that converts two lists into a dictionary, then merges two dictionaries into one.**\n",
    "\n",
    "Using your 4 lists, create a function which combines the keys lists with the values lists into a dictionary, then merges and returns the two dictionaries together."
   ]
  },
  {
   "cell_type": "code",
   "execution_count": 6,
   "metadata": {},
   "outputs": [],
   "source": [
    "def merge_dicts(keys_1, keys_2, values_1, values_2):\n",
    "    dict_1 = dict(keys_1, values_1)\n",
    "    dict_2 = dict(keys_2, values_2)\n",
    "    merged_dict = {**dict_1, **dict_2}\n",
    "    \n",
    "    return merged_dict"
   ]
  }
 ],
 "metadata": {
  "kernelspec": {
   "display_name": "Python 3",
   "language": "python",
   "name": "python3"
  },
  "language_info": {
   "codemirror_mode": {
    "name": "ipython",
    "version": 3
   },
   "file_extension": ".py",
   "mimetype": "text/x-python",
   "name": "python",
   "nbconvert_exporter": "python",
   "pygments_lexer": "ipython3",
   "version": "3.10.8"
  },
  "orig_nbformat": 4,
  "vscode": {
   "interpreter": {
    "hash": "26de051ba29f2982a8de78e945f0abaf191376122a1563185a90213a26c5da77"
   }
  }
 },
 "nbformat": 4,
 "nbformat_minor": 2
}
