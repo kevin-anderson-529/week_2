{
 "cells": [
  {
   "attachments": {},
   "cell_type": "markdown",
   "metadata": {},
   "source": [
    "# Parking Garage Project\n",
    "\n",
    "Your assignment for today is to create a parking garage class to get more familiar with Object Oriented Programming(OOP). \n",
    "\n",
    "Your parking gargage class should have the following methods:\n",
    "- take_ticket\n",
    "   - This should decrease the amount of tickets available by 1\n",
    "   - This should decrease the amount of parking_spaces available by 1\n",
    "- pay_for_parking\n",
    "   - Display an input that waits for an amount from the user and store it in a variable\n",
    "   - If the payment variable is not empty then ->  display a message to the user that their ticket has been paid and they have 15mins to leave\n",
    "   - This should update the \"current_ticket\" dictionary key \"paid\" to True\n",
    "-leave_garage\n",
    "   - If the ticket has been paid, display a message of \"Thank You, have a nice day\"\n",
    "   - If the ticket has not been paid, display an input prompt for payment\n",
    "      - Once paid, display message \"Thank you, have a nice day!\"\n",
    "   - Update parking_spaces list to increase by 1\n",
    "   - Update tickets list to increase by 1\n",
    "\n",
    "You will need a few attributes as well:\n",
    "- tickets -> list\n",
    "- parking_spaces -> list\n",
    "- current_ticket -> dictionary"
   ]
  },
  {
   "cell_type": "code",
   "execution_count": null,
   "metadata": {},
   "outputs": [],
   "source": [
    "# YOUR CODE HERE\n",
    "class OOPGarage:\n",
    "    def __init__(self, num_tickets, num_parking_spaces):\n",
    "        self.tickets = [i for i in range(1, num_tickets+1)]\n",
    "        self.parking_spaces = [i for i in range(1, num_parking_spaces+1)]\n",
    "        self.tickets_dict = {}\n",
    "\n",
    "    def take_ticket(self):\n",
    "        if self.tickets:\n",
    "            ticket_num = self.tickets.remove(-1)\n",
    "            parking_spot = self.parking_spaces.remove(-1)\n",
    "            self.tickets_dict[ticket_num] = {'parking_spot': parking_spot}\n",
    "        \n",
    "    def pay_for_parking(self):\n",
    "        ticket_num = int(input(\"enter number:\"))\n",
    "        if self.tickets_dict.get(ticket_num):\n",
    "            if not self.tickets_dict[ticket_num]['paid']:\n",
    "            self.tickets_dict[ticket_num]['paid'] = True\n",
    "            print(\"Ticket paid. 15 minutes remaining.\")\n",
    "        \n",
    "    def leave_garage(self):\n",
    "        ticket_num = int(input(\"Enter number: \"))\n",
    "        if self.tickets_dict.get(ticket_num):\n",
    "            if self.cnew.ticket[ticket_num]['paid']:\n",
    "                print(\"Thank you, have a nice day!\")\n",
    "                self.parking_spaces.append(self.tickets_dict[ticket_num]['parking_spot'])\n",
    "                del self.tickets_dict[ticket_num]\n",
    "                self.tickets.append(self.tickets_dict[ticket_num]['parking_spot'])"
   ]
  }
 ],
 "metadata": {
  "kernelspec": {
   "display_name": "Python 3",
   "language": "python",
   "name": "python3"
  },
  "language_info": {
   "codemirror_mode": {
    "name": "ipython",
    "version": 3
   },
   "file_extension": ".py",
   "mimetype": "text/x-python",
   "name": "python",
   "nbconvert_exporter": "python",
   "pygments_lexer": "ipython3",
   "version": "3.10.8"
  }
 },
 "nbformat": 4,
 "nbformat_minor": 2
}
