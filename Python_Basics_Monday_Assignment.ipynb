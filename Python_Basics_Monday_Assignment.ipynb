{
 "cells": [
  {
   "attachments": {},
   "cell_type": "markdown",
   "metadata": {},
   "source": [
    "# Coding Temple's Data Analytics Program\n",
    "---\n",
    "## Python Basics Assignment 1\n",
    "---"
   ]
  },
  {
   "attachments": {},
   "cell_type": "markdown",
   "metadata": {},
   "source": [
    "### Task 1: Cube Number Test\n",
    "Print out all cubed numbers, up to the total value of 1000. If the cubed number is over 1000, break the loop.\n",
    "\n",
    "Save all numbers to a list named `cube`"
   ]
  },
  {
   "cell_type": "code",
   "execution_count": 7,
   "metadata": {},
   "outputs": [
    {
     "name": "stdout",
     "output_type": "stream",
     "text": [
      "[1, 8, 27, 64, 125, 216, 343, 512, 729, 1000]\n"
     ]
    }
   ],
   "source": [
    "cube = []\n",
    "for i in range(1, 1000):\n",
    "    if i**3 > 1000:\n",
    "        break\n",
    "    cube.append(i**3)\n",
    "print(cube)\n"
   ]
  },
  {
   "attachments": {},
   "cell_type": "markdown",
   "metadata": {},
   "source": [
    "### Task 1 Testing\n",
    "This cell is to test your answer in task 1"
   ]
  },
  {
   "cell_type": "code",
   "execution_count": 11,
   "metadata": {},
   "outputs": [
    {
     "ename": "AssertionError",
     "evalue": "Your final value should be 729 and you have 1000",
     "output_type": "error",
     "traceback": [
      "\u001b[1;31m---------------------------------------------------------------------------\u001b[0m",
      "\u001b[1;31mAssertionError\u001b[0m                            Traceback (most recent call last)",
      "Cell \u001b[1;32mIn[11], line 3\u001b[0m\n\u001b[0;32m      1\u001b[0m \u001b[39m# DO NOT EDIT THIS CELL!!\u001b[39;00m\n\u001b[0;32m      2\u001b[0m \u001b[39massert\u001b[39;00m \u001b[39mlen\u001b[39m(cube) \u001b[39m==\u001b[39m \u001b[39m10\u001b[39m, \u001b[39m'\u001b[39m\u001b[39mDouble-check your calculations! There should be 10 numbers in this list!\u001b[39m\u001b[39m'\u001b[39m\n\u001b[1;32m----> 3\u001b[0m \u001b[39massert\u001b[39;00m cube[\u001b[39m-\u001b[39m\u001b[39m1\u001b[39m] \u001b[39m==\u001b[39m \u001b[39m729\u001b[39m, \u001b[39mf\u001b[39m\u001b[39m\"\u001b[39m\u001b[39mYour final value should be 729 and you have \u001b[39m\u001b[39m{\u001b[39;00mcube[\u001b[39m-\u001b[39m\u001b[39m1\u001b[39m]\u001b[39m}\u001b[39;00m\u001b[39m\"\u001b[39m\n",
      "\u001b[1;31mAssertionError\u001b[0m: Your final value should be 729 and you have 1000"
     ]
    }
   ],
   "source": [
    "# DO NOT EDIT THIS CELL!!\n",
    "assert len(cube) == 10, 'Double-check your calculations! There should be 10 numbers in this list!'\n",
    "assert cube[-1] == 729, f\"Your final value should be 729 and you have {cube[-1]}\""
   ]
  },
  {
   "attachments": {},
   "cell_type": "markdown",
   "metadata": {},
   "source": [
    "### Task 2: Prime Numbers\n",
    "\n",
    "Get all prime numbers up to 100. Add these values to a list named `prime`"
   ]
  },
  {
   "cell_type": "code",
   "execution_count": 12,
   "metadata": {
    "tags": []
   },
   "outputs": [
    {
     "name": "stdout",
     "output_type": "stream",
     "text": [
      "[2, 3, 5, 7, 11, 13, 17, 19, 23, 29, 31, 37, 41, 43, 47, 53, 59, 61, 67, 71, 73, 79, 83, 89, 97]\n"
     ]
    }
   ],
   "source": [
    "prime = []\n",
    "# HINT::\n",
    "# An else after an if runs if the if didn’t\n",
    "# An else after a for runs if the for didn’t break\n",
    "#YOUR CODE HERE\n",
    "for num in range(2, 101):\n",
    "    for i in range(2, num):\n",
    "        if num % i == 0:\n",
    "            break\n",
    "    else:\n",
    "        prime.append(num)\n",
    "\n",
    "print(prime)\n"
   ]
  },
  {
   "attachments": {},
   "cell_type": "markdown",
   "metadata": {},
   "source": [
    "### Task 2 Testing\n",
    "This cell is to test your answers in task 2"
   ]
  },
  {
   "cell_type": "code",
   "execution_count": 13,
   "metadata": {},
   "outputs": [
    {
     "ename": "AssertionError",
     "evalue": "Make sure you have all the prime numbers from 0-100 in the list \"prime\"",
     "output_type": "error",
     "traceback": [
      "\u001b[1;31m---------------------------------------------------------------------------\u001b[0m",
      "\u001b[1;31mAssertionError\u001b[0m                            Traceback (most recent call last)",
      "Cell \u001b[1;32mIn[13], line 2\u001b[0m\n\u001b[0;32m      1\u001b[0m \u001b[39m# DO NOT EDIT THIS CELL!!\u001b[39;00m\n\u001b[1;32m----> 2\u001b[0m \u001b[39massert\u001b[39;00m \u001b[39mlen\u001b[39m(prime) \u001b[39m==\u001b[39m \u001b[39m24\u001b[39m, \u001b[39m'\u001b[39m\u001b[39mMake sure you have all the prime numbers from 0-100 in the list \u001b[39m\u001b[39m\"\u001b[39m\u001b[39mprime\u001b[39m\u001b[39m\"\u001b[39m\u001b[39m'\u001b[39m\n\u001b[0;32m      3\u001b[0m \u001b[39massert\u001b[39;00m prime[\u001b[39m-\u001b[39m\u001b[39m1\u001b[39m] \u001b[39m==\u001b[39m \u001b[39m97\u001b[39m, \u001b[39mf\u001b[39m\u001b[39m'\u001b[39m\u001b[39mYour list should end with the number 97. Yours currently ends at \u001b[39m\u001b[39m{\u001b[39;00mprime[\u001b[39m-\u001b[39m\u001b[39m1\u001b[39m]\u001b[39m}\u001b[39;00m\u001b[39m'\u001b[39m\n",
      "\u001b[1;31mAssertionError\u001b[0m: Make sure you have all the prime numbers from 0-100 in the list \"prime\""
     ]
    }
   ],
   "source": [
    "# DO NOT EDIT THIS CELL!!\n",
    "assert len(prime) == 24, 'Make sure you have all the prime numbers from 0-100 in the list \"prime\"'\n",
    "assert prime[-1] == 97, f'Your list should end with the number 97. Yours currently ends at {prime[-1]}'"
   ]
  },
  {
   "attachments": {},
   "cell_type": "markdown",
   "metadata": {},
   "source": [
    "### Task 3: User Inputs\n",
    "Take an input from a user for their age and convert it into an integer type. Save this to a variable to the name age. If the user is younger than 18, print `kids`, if they are 18-65, print `adults`, else, print `seniors`."
   ]
  },
  {
   "cell_type": "code",
   "execution_count": 14,
   "metadata": {},
   "outputs": [],
   "source": [
    "age = int(input(\"What is your age? \"))\n",
    "if age < 18:\n",
    "    print(\"kids\")\n",
    "elif age <= 65:\n",
    "    print(\"adults\")\n",
    "else:\n",
    "    print(\"seniors\")"
   ]
  },
  {
   "attachments": {},
   "cell_type": "markdown",
   "metadata": {},
   "source": [
    "### Task 3 Testing\n",
    "This cell is to test your answers in task 2"
   ]
  },
  {
   "cell_type": "code",
   "execution_count": null,
   "metadata": {},
   "outputs": [
    {
     "ename": "AssertionError",
     "evalue": "Make sure you saved the age input as an integer!",
     "output_type": "error",
     "traceback": [
      "\u001b[1;31m---------------------------------------------------------------------------\u001b[0m",
      "\u001b[1;31mAssertionError\u001b[0m                            Traceback (most recent call last)",
      "Cell \u001b[1;32mIn[4], line 2\u001b[0m\n\u001b[0;32m      1\u001b[0m \u001b[39m# DO NOT EDIT THIS CELL!!\u001b[39;00m\n\u001b[1;32m----> 2\u001b[0m \u001b[39massert\u001b[39;00m \u001b[39mtype\u001b[39m(age) \u001b[39m==\u001b[39m \u001b[39mint\u001b[39m, \u001b[39m'\u001b[39m\u001b[39mMake sure you saved the age input as an integer!\u001b[39m\u001b[39m'\u001b[39m\n",
      "\u001b[1;31mAssertionError\u001b[0m: Make sure you saved the age input as an integer!"
     ]
    }
   ],
   "source": [
    "# DO NOT EDIT THIS CELL!!\n",
    "assert type(age) == int, 'Make sure you saved the age input as an integer!'"
   ]
  }
 ],
 "metadata": {
  "kernelspec": {
   "display_name": "Python 3",
   "language": "python",
   "name": "python3"
  },
  "language_info": {
   "codemirror_mode": {
    "name": "ipython",
    "version": 3
   },
   "file_extension": ".py",
   "mimetype": "text/x-python",
   "name": "python",
   "nbconvert_exporter": "python",
   "pygments_lexer": "ipython3",
   "version": "3.10.8"
  },
  "orig_nbformat": 4,
  "vscode": {
   "interpreter": {
    "hash": "26de051ba29f2982a8de78e945f0abaf191376122a1563185a90213a26c5da77"
   }
  }
 },
 "nbformat": 4,
 "nbformat_minor": 2
}
